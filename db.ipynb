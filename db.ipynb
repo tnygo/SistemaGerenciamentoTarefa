{
 "cells": [
  {
   "cell_type": "code",
   "execution_count": 29,
   "id": "e4493466-6d6b-4ff3-b3ea-46945d1951ca",
   "metadata": {},
   "outputs": [
    {
     "name": "stdout",
     "output_type": "stream",
     "text": [
      "[(17, 'Teste novamente', 'coisas para se fazer', 'Pendente'), (18, 'Teste novamente', 'coisas para se fazer', 'Pendente'), (19, 'Teste novamente', 'coisas para se fazer', 'Pendente'), (20, 'Teste novamente', 'coisas para se fazer', 'Pendente'), (21, 'Teste novamente', 'coisas para se fazer', 'Pendente')]\n"
     ]
    }
   ],
   "source": [
    "import mysql.connector\n",
    "\n",
    "conexao = mysql.connector.connect(\n",
    "    host='localhost',\n",
    "    user='root',\n",
    "    password='1201',\n",
    "    database='tarefas',\n",
    ")\n",
    "\n",
    "cursor = conexao.cursor()\n",
    "\n",
    "#CREATE\n",
    "ti = \"Teste novamente\"\n",
    "desc = \"coisas para se fazer\"\n",
    "stats = \"Pendente\"\n",
    "comando = f'INSERT INTO gerenciador (Titulo, Descricao, Status) VALUES (\"{ti}\", \"{desc}\", \"{stats}\")'\n",
    "cursor.execute(comando)\n",
    "conexao.commit() #edit\n",
    "\n",
    "#UPDATE\n",
    "tiupdate = \"Teste Update\"\n",
    "statsupdate = \"Concluida\"\n",
    "comando = f'UPDATE gerenciador SET Status = \"{statsupdate}\" WHERE Titulo = \"{tiupdate}\"'\n",
    "cursor.execute(comando)\n",
    "conexao.commit() #edit\n",
    "\n",
    "#DELETE\n",
    "tidelete = \"Teste\"\n",
    "comando = f'DELETE FROM gerenciador WHERE Titulo = \"{tidelete}\"'\n",
    "cursor.execute(comando)\n",
    "conexao.commit() #edit\n",
    "\n",
    "#READ\n",
    "comando = f'SELECT * FROM gerenciador'\n",
    "cursor.execute(comando)\n",
    "resultado = cursor.fetchall() #ler\n",
    "print(resultado)\n",
    "\n",
    "\n",
    "cursor.close()\n",
    "conexao.close()"
   ]
  },
  {
   "cell_type": "code",
   "execution_count": null,
   "id": "27e046f6-a944-46d1-a16c-eea397f12e5b",
   "metadata": {},
   "outputs": [],
   "source": []
  }
 ],
 "metadata": {
  "kernelspec": {
   "display_name": "Python 3 (ipykernel)",
   "language": "python",
   "name": "python3"
  },
  "language_info": {
   "codemirror_mode": {
    "name": "ipython",
    "version": 3
   },
   "file_extension": ".py",
   "mimetype": "text/x-python",
   "name": "python",
   "nbconvert_exporter": "python",
   "pygments_lexer": "ipython3",
   "version": "3.10.9"
  }
 },
 "nbformat": 4,
 "nbformat_minor": 5
}
